{
 "cells": [
  {
   "metadata": {},
   "cell_type": "markdown",
   "source": [
    "# Architecture\n",
    "At a high-level, the steps of these systems are:\n",
    "\n",
    "1- Convert question to SQL query: Model converts user input to a SQL query.\n",
    "2- Execute SQL query: Execute the query.\n",
    "3- Answer the question: Model responds to user input using the query results."
   ],
   "id": "d2de80b1a72f63e0"
  },
  {
   "metadata": {},
   "cell_type": "markdown",
   "source": [
    "# Pipeline of the project\n",
    "![Alt Text](sql_usecase.png)"
   ],
   "id": "92eb4fe3c75b766d"
  },
  {
   "cell_type": "code",
   "id": "initial_id",
   "metadata": {
    "collapsed": true,
    "ExecuteTime": {
     "end_time": "2025-04-24T01:08:18.030863Z",
     "start_time": "2025-04-24T01:08:11.402762Z"
    }
   },
   "source": [
    "from langchain_google_genai import ChatGoogleGenerativeAI\n",
    "from langchain.utilities import SQLDatabase\n",
    "from langchain_experimental.sql import SQLDatabaseChain\n",
    "from langchain.prompts import SemanticSimilarityExampleSelector\n",
    "from langchain.embeddings import HuggingFaceEmbeddings\n",
    "from langchain.vectorstores import Chroma\n",
    "from langchain.prompts import FewShotPromptTemplate\n",
    "from langchain.chains.sql_database.prompt import PROMPT_SUFFIX\n",
    "from langchain.prompts.prompt import PromptTemplate\n",
    "from decimal import Decimal\n",
    "import sys\n",
    "import os\n",
    "from dotenv import load_dotenv\n",
    "from sympy.physics.units import temperature\n",
    "\n",
    "from few_shots import examples\n"
   ],
   "outputs": [],
   "execution_count": 1
  },
  {
   "metadata": {
    "ExecuteTime": {
     "end_time": "2025-04-24T01:08:18.087525Z",
     "start_time": "2025-04-24T01:08:18.067457Z"
    }
   },
   "cell_type": "code",
   "source": [
    "# set env variables\n",
    "load_dotenv('C:/Users/Assia/PycharmProjects/PythonProject/env')"
   ],
   "id": "15604a0b778fd195",
   "outputs": [
    {
     "data": {
      "text/plain": [
       "True"
      ]
     },
     "execution_count": 2,
     "metadata": {},
     "output_type": "execute_result"
    }
   ],
   "execution_count": 2
  },
  {
   "metadata": {},
   "cell_type": "markdown",
   "source": "### Connection with MySql Database",
   "id": "f21ece3f0f0ba757"
  },
  {
   "metadata": {
    "ExecuteTime": {
     "end_time": "2025-04-24T01:08:20.522757Z",
     "start_time": "2025-04-24T01:08:20.515425Z"
    }
   },
   "cell_type": "code",
   "source": [
    "# db infos\n",
    "db_user = \"root\"\n",
    "db_password = os.getenv('DB_PASSWORD')\n",
    "db_host = \"localhost\"\n",
    "db_name = \"atliq_tshirts\""
   ],
   "id": "364727783bdb9808",
   "outputs": [],
   "execution_count": 3
  },
  {
   "metadata": {
    "ExecuteTime": {
     "end_time": "2025-04-24T01:08:25.016151Z",
     "start_time": "2025-04-24T01:08:24.742848Z"
    }
   },
   "cell_type": "code",
   "source": [
    "# create the  SQL db object\n",
    "db = SQLDatabase.from_uri(\n",
    "        f\"mysql+pymysql://{db_user}:{db_password}@{db_host}/{db_name}\",\n",
    "       sample_rows_in_table_info=3\n",
    "     )"
   ],
   "id": "bcc86e37f7bb17e1",
   "outputs": [],
   "execution_count": 4
  },
  {
   "metadata": {},
   "cell_type": "markdown",
   "source": "### Hugging Face Authentication & Embedding Model Initialization",
   "id": "15038ad1a7f5fa5e"
  },
  {
   "metadata": {
    "ExecuteTime": {
     "end_time": "2025-04-24T01:08:27.665210Z",
     "start_time": "2025-04-24T01:08:26.278452Z"
    }
   },
   "cell_type": "code",
   "source": [
    "from huggingface_hub import login\n",
    "\n",
    "# login to hugging face using the api key\n",
    "login(os.getenv('HUGGING_FACE_KEY'))"
   ],
   "id": "1e08c593f3f5f5dd",
   "outputs": [
    {
     "name": "stderr",
     "output_type": "stream",
     "text": [
      "C:\\Users\\Assia\\PycharmProjects\\PythonProject\\.venv\\Lib\\site-packages\\tqdm\\auto.py:21: TqdmWarning: IProgress not found. Please update jupyter and ipywidgets. See https://ipywidgets.readthedocs.io/en/stable/user_install.html\n",
      "  from .autonotebook import tqdm as notebook_tqdm\n"
     ]
    }
   ],
   "execution_count": 5
  },
  {
   "metadata": {
    "ExecuteTime": {
     "end_time": "2025-04-24T01:08:55.865422Z",
     "start_time": "2025-04-24T01:08:27.694391Z"
    }
   },
   "cell_type": "code",
   "source": [
    "# create the embedding model\n",
    "embeddings = HuggingFaceEmbeddings(model_name=\"sentence-transformers/all-MiniLM-L6-v2\")"
   ],
   "id": "d162ce774b754140",
   "outputs": [
    {
     "name": "stderr",
     "output_type": "stream",
     "text": [
      "C:\\Users\\Assia\\AppData\\Local\\Temp\\ipykernel_6372\\102896465.py:1: LangChainDeprecationWarning: The class `HuggingFaceEmbeddings` was deprecated in LangChain 0.2.2 and will be removed in 1.0. An updated version of the class exists in the :class:`~langchain-huggingface package and should be used instead. To use it run `pip install -U :class:`~langchain-huggingface` and import as `from :class:`~langchain_huggingface import HuggingFaceEmbeddings``.\n",
      "  embeddings = HuggingFaceEmbeddings(model_name=\"sentence-transformers/all-MiniLM-L6-v2\")\n"
     ]
    }
   ],
   "execution_count": 6
  },
  {
   "metadata": {},
   "cell_type": "markdown",
   "source": "### Mistral AI Authentification & Model Initialization",
   "id": "f9527e7a7135ff8c"
  },
  {
   "metadata": {
    "ExecuteTime": {
     "end_time": "2025-04-24T01:09:03.343056Z",
     "start_time": "2025-04-24T01:08:55.973743Z"
    }
   },
   "cell_type": "code",
   "source": "!pip install -qU \"langchain[mistralai]\"",
   "id": "b4408a22b7a23f8f",
   "outputs": [],
   "execution_count": 7
  },
  {
   "metadata": {
    "ExecuteTime": {
     "end_time": "2025-04-24T01:09:27.582360Z",
     "start_time": "2025-04-24T01:09:27.573374Z"
    }
   },
   "cell_type": "code",
   "source": [
    "import getpass\n",
    "import os\n",
    "\n",
    "# enter the api key of mistral AI\n",
    "if not os.environ.get(\"MISTRAL_API_KEY\"):\n",
    "  os.environ[\"MISTRAL_API_KEY\"] = getpass.getpass(\"Enter API key for Mistral AI: \")"
   ],
   "id": "3bf0f64cffaab64b",
   "outputs": [],
   "execution_count": 8
  },
  {
   "metadata": {
    "ExecuteTime": {
     "end_time": "2025-04-24T01:13:19.138765Z",
     "start_time": "2025-04-24T01:13:19.125785Z"
    }
   },
   "cell_type": "code",
   "source": [
    "from langchain.chat_models import init_chat_model\n",
    "\n",
    "# initialize the llm\n",
    "llm = init_chat_model(\n",
    "    \"mistral-large-latest\",\n",
    "    model_provider=\"mistralai\",\n",
    ")"
   ],
   "id": "5830b9a5387564b7",
   "outputs": [],
   "execution_count": 28
  },
  {
   "metadata": {
    "ExecuteTime": {
     "end_time": "2025-04-24T01:09:32.219346Z",
     "start_time": "2025-04-24T01:09:32.212075Z"
    }
   },
   "cell_type": "code",
   "source": [
    "from few_shots import examples\n",
    "\n",
    "# prepare the few-shot examples for vectorization\n",
    "to_vectorize = [\" \".join(example.values()) for example in examples]"
   ],
   "id": "b0dcdddbf87ae1d6",
   "outputs": [],
   "execution_count": 10
  },
  {
   "metadata": {},
   "cell_type": "markdown",
   "source": "### Data Preparation & Vectorization",
   "id": "5555c4e081e4dc23"
  },
  {
   "metadata": {
    "ExecuteTime": {
     "end_time": "2025-04-24T01:09:32.937788Z",
     "start_time": "2025-04-24T01:09:32.925739Z"
    }
   },
   "cell_type": "code",
   "source": "to_vectorize",
   "id": "11be041fe6e3da55",
   "outputs": [
    {
     "data": {
      "text/plain": [
       "['List all t-shirts. SELECT * FROM t_shirts;',\n",
       " \"Show all black t-shirts. SELECT * FROM t_shirts WHERE color = 'Black';\",\n",
       " \"List all Adidas t-shirts in size L. SELECT * FROM t_shirts WHERE brand = 'Adidas' AND size = 'L';\",\n",
       " 'Provide a list of t-shirt IDs that have a price greater than $40 SELECT t_shirt_id FROM t_shirts WHERE price > 40;',\n",
       " 'Find all t-shirts that are out of stock. SELECT * FROM t_shirts WHERE stock_quantity = 0;',\n",
       " 'List all t-shirts that have a discount. SELECT t.*\\nFROM t_shirts t\\nJOIN discounts d ON t.t_shirt_id = d.t_shirt_id;',\n",
       " 'Show t-shirts with more than 50 items in stock. SELECT * FROM t_shirts WHERE stock_quantity > 50;',\n",
       " 'Find the discount percentage for each t-shirt. SELECT t_shirt_id, pct_discount FROM discounts;',\n",
       " 'Show t-shirts with their discount percentage. SELECT t.t_shirt_id, t.brand, t.color, t.size, t.price, d.pct_discount\\nFROM t_shirts t\\nLEFT JOIN discounts d ON t.t_shirt_id = d.t_shirt_id;',\n",
       " 'Which t-shirts have a discount greater than 15 percent? SELECT t.*\\nFROM t_shirts t\\nJOIN discounts d ON t.t_shirt_id = d.t_shirt_id\\nWHERE d.pct_discount > 15;',\n",
       " 'What is the average price of all t-shirts? SELECT AVG(price) AS average_price FROM t_shirts;',\n",
       " 'How many t-shirts are currently in stock? SELECT COUNT(*) FROM t_shirts WHERE stock_quantity > 0;',\n",
       " 'Show the price after discount for each discounted t-shirt. SELECT t.t_shirt_id, t.brand, t.price, d.pct_discount,\\n       t.price * (1 - d.pct_discount / 100) AS discounted_price\\nFROM t_shirts t\\nJOIN discounts d ON t.t_shirt_id = d.t_shirt_id;',\n",
       " \"What is the total price of all Nike T-shirts of size M? SELECT SUM(price * stock_quantity) FROM t_shirts WHERE brand = 'Nike' AND size = 'M';\",\n",
       " \"What is the total inventory value of all Adidas T-shirts? SELECT SUM(price * stock_quantity) FROM t_shirts WHERE brand = 'Adidas';\"]"
      ]
     },
     "execution_count": 11,
     "metadata": {},
     "output_type": "execute_result"
    }
   ],
   "execution_count": 11
  },
  {
   "metadata": {
    "ExecuteTime": {
     "end_time": "2025-04-24T01:09:41.828075Z",
     "start_time": "2025-04-24T01:09:38.594400Z"
    }
   },
   "cell_type": "code",
   "source": [
    "# create the vector store object\n",
    "vectorstore = Chroma.from_texts(\n",
    "    texts=to_vectorize,\n",
    "    embedding=embeddings,\n",
    "    metadatas=examples,\n",
    "    persist_directory=None\n",
    ")"
   ],
   "id": "59aa5bf24153ab00",
   "outputs": [],
   "execution_count": 12
  },
  {
   "metadata": {},
   "cell_type": "markdown",
   "source": "",
   "id": "87d60fb467bde797"
  },
  {
   "metadata": {
    "ExecuteTime": {
     "end_time": "2025-04-24T01:09:43.489930Z",
     "start_time": "2025-04-24T01:09:43.481427Z"
    }
   },
   "cell_type": "code",
   "source": [
    "# the exmaple selector for dynamic selection of few-shots\n",
    "example_selector = SemanticSimilarityExampleSelector(\n",
    "        vectorstore=vectorstore,\n",
    "        k=5,\n",
    "        input_keys=[\"input\"],\n",
    "    )"
   ],
   "id": "39b467077a3a8b54",
   "outputs": [],
   "execution_count": 13
  },
  {
   "metadata": {},
   "cell_type": "markdown",
   "source": "### Prompt preparation",
   "id": "5f71c3cae5a4b4b4"
  },
  {
   "metadata": {
    "ExecuteTime": {
     "end_time": "2025-04-24T01:19:29.452213Z",
     "start_time": "2025-04-24T01:19:29.443701Z"
    }
   },
   "cell_type": "code",
   "source": [
    "# params for the prompt\n",
    "example_prompt = PromptTemplate.from_template(\"User input: {input}\\nSQL query: {query}\")"
   ],
   "id": "eb6090fe929c2636",
   "outputs": [],
   "execution_count": 32
  },
  {
   "metadata": {
    "ExecuteTime": {
     "end_time": "2025-04-24T01:19:29.888197Z",
     "start_time": "2025-04-24T01:19:29.876491Z"
    }
   },
   "cell_type": "code",
   "source": [
    "prefix = \"\"\"You are a MySQL expert. Given an input question, create a syntactically correct MySQL query to run to help find the answer. Unless the user specifies in the question a specific number of examples to obtain, query for at most {top_k} results using the LIMIT clause as per MySQL. You can order the results by a relevant column to return the most interesting examples in the database.\n",
    "\n",
    "Never query for all the columns from a specific table, only ask for a the few relevant columns given the question.\n",
    "\n",
    "Pay attention to use only the column names that you can see in the schema description. Be careful to not query for columns that do not exist. Also, pay attention to which column is in which table.\n",
    "\n",
    "Only use the following tables:\n",
    "{table_info}\n",
    "\n",
    "Below are a number of examples of questions and their corresponding SQL queries.\"\"\""
   ],
   "id": "321ffefeeff7e3a5",
   "outputs": [],
   "execution_count": 33
  },
  {
   "metadata": {},
   "cell_type": "markdown",
   "source": [
    "### LangGraph State\n",
    "A state is like a notebook that our system uses to keep track of what happens during the task, it stores the data that will be used by each step, either for reading or updating the data.\n",
    "\n",
    "You store all of this in something like a Python TypedDict or a Pydantic model. It’s like a shared folder that all steps in the chain can read from and write to.\n",
    "\n",
    "For this application, we can just keep track of the input question, generated query, query result, and generated answer:"
   ],
   "id": "f32957468da3845d"
  },
  {
   "metadata": {
    "ExecuteTime": {
     "end_time": "2025-04-24T01:19:33.447309Z",
     "start_time": "2025-04-24T01:19:33.438806Z"
    }
   },
   "cell_type": "code",
   "source": [
    "from typing_extensions import TypedDict\n",
    "\n",
    "# state of the data\n",
    "class State(TypedDict):\n",
    "    question: str\n",
    "    query: str\n",
    "    result: str\n",
    "    answer: str"
   ],
   "id": "d0451d04d2602b3c",
   "outputs": [],
   "execution_count": 34
  },
  {
   "metadata": {},
   "cell_type": "markdown",
   "source": [
    "### Chain\n",
    "At the end of this project, we will use LangGraph, wich is a tool used for building language model workflows, and we need to define our \"Chain\" which is a sequence of conected nodes or steps, that define the workflow of our system.\n",
    "These steps are defined as follows :\n"
   ],
   "id": "37431575d49b5fd4"
  },
  {
   "metadata": {},
   "cell_type": "markdown",
   "source": "#### The First Step",
   "id": "2e416acfbe7b97ea"
  },
  {
   "metadata": {
    "ExecuteTime": {
     "end_time": "2025-04-24T01:21:45.175085Z",
     "start_time": "2025-04-24T01:21:45.164272Z"
    }
   },
   "cell_type": "code",
   "source": [
    "from typing_extensions import Annotated\n",
    "\n",
    "\n",
    "class QueryOutput(TypedDict):\n",
    "    \"\"\"generated SQL query.\"\"\"\n",
    "\n",
    "    query: Annotated[str, ..., \"Syntactically valid SQL query.\"]\n",
    "\n",
    "\n",
    "def write_query(state: State):\n",
    "    \"\"\"generate SQL query to fetch information.\"\"\"\n",
    "    prompt = FewShotPromptTemplate(\n",
    "    example_selector=example_selector,\n",
    "    example_prompt=example_prompt,\n",
    "    prefix=prefix,\n",
    "    suffix=\"User input: {input}\\nSQL query: \",\n",
    "    input_variables=[\"input\", \"table_info\", \"top_k\"],\n",
    ").format(input=state['question'], table_info=db.table_info, top_k = 3)\n",
    "\n",
    "    structured_llm = llm.with_structured_output(QueryOutput)\n",
    "    result = structured_llm.invoke(prompt)\n",
    "    return {\n",
    "        \"question\": state[\"question\"],\n",
    "        \"query\": result[\"query\"]\n",
    "    }"
   ],
   "id": "5a338589d7e2bc9c",
   "outputs": [],
   "execution_count": 38
  },
  {
   "metadata": {},
   "cell_type": "markdown",
   "source": "Some tests",
   "id": "c18f3ad5aa055f76"
  },
  {
   "metadata": {
    "ExecuteTime": {
     "end_time": "2025-04-24T01:21:48.369824Z",
     "start_time": "2025-04-24T01:21:47.300902Z"
    }
   },
   "cell_type": "code",
   "source": "write_query({\"question\": \"list all t-shirts\"})",
   "id": "9f34f40d4d59f3fd",
   "outputs": [
    {
     "data": {
      "text/plain": [
       "{'question': 'list all t-shirts',\n",
       " 'query': 'SELECT brand, color, size, price FROM t_shirts LIMIT 3;'}"
      ]
     },
     "execution_count": 40,
     "metadata": {},
     "output_type": "execute_result"
    }
   ],
   "execution_count": 40
  },
  {
   "metadata": {
    "ExecuteTime": {
     "end_time": "2025-04-24T01:21:52.658106Z",
     "start_time": "2025-04-24T01:21:51.814286Z"
    }
   },
   "cell_type": "code",
   "source": "write_query({\"question\": \"How many Adidas T shirts I have left in my store?\"})",
   "id": "aea80f28a3b89570",
   "outputs": [
    {
     "data": {
      "text/plain": [
       "{'question': 'How many Adidas T shirts I have left in my store?',\n",
       " 'query': \"SELECT COUNT(*) FROM t_shirts WHERE brand = 'Adidas' AND stock_quantity > 0;\"}"
      ]
     },
     "execution_count": 41,
     "metadata": {},
     "output_type": "execute_result"
    }
   ],
   "execution_count": 41
  },
  {
   "metadata": {
    "ExecuteTime": {
     "end_time": "2025-04-24T01:21:58.010420Z",
     "start_time": "2025-04-24T01:21:57.025385Z"
    }
   },
   "cell_type": "code",
   "source": "write_query({\"question\": \"How many T shirts of size M I have left in my store?\"})",
   "id": "169ccec2a38f40a0",
   "outputs": [
    {
     "data": {
      "text/plain": [
       "{'question': 'How many T shirts of size M I have left in my store?',\n",
       " 'query': \"SELECT COUNT(*) FROM t_shirts WHERE size = 'M' AND stock_quantity > 0;\"}"
      ]
     },
     "execution_count": 42,
     "metadata": {},
     "output_type": "execute_result"
    }
   ],
   "execution_count": 42
  },
  {
   "metadata": {},
   "cell_type": "markdown",
   "source": "#### The Second Step",
   "id": "cddce48dfe9a7ebd"
  },
  {
   "metadata": {
    "ExecuteTime": {
     "end_time": "2025-04-24T01:22:37.218002Z",
     "start_time": "2025-04-24T01:22:37.165094Z"
    }
   },
   "cell_type": "code",
   "source": [
    "from langchain_community.tools.sql_database.tool import QuerySQLDatabaseTool\n",
    "\n",
    "\n",
    "def execute_query(state: State):\n",
    "    \"\"\"Execute SQL query.\"\"\"\n",
    "    execute_query_tool = QuerySQLDatabaseTool(db=db)\n",
    "    return {\n",
    "        \"question\": state[\"question\"],\n",
    "        \"query\": state[\"query\"],\n",
    "        \"result\": execute_query_tool.invoke(state[\"query\"])\n",
    "    }"
   ],
   "id": "2c30c9cf3e4a6773",
   "outputs": [],
   "execution_count": 43
  },
  {
   "metadata": {},
   "cell_type": "markdown",
   "source": "test",
   "id": "f02e26e1d55773c2"
  },
  {
   "metadata": {
    "ExecuteTime": {
     "end_time": "2025-04-24T01:22:40.340396Z",
     "start_time": "2025-04-24T01:22:40.317511Z"
    }
   },
   "cell_type": "code",
   "source": [
    "execute_query({'question': 'How many Adidas T shirts I have left in my store?',\n",
    " 'query': \"SELECT COUNT(*) FROM t_shirts WHERE brand = 'Adidas' AND stock_quantity > 0;\"})"
   ],
   "id": "375ddf606bc9aaff",
   "outputs": [
    {
     "data": {
      "text/plain": [
       "{'question': 'How many Adidas T shirts I have left in my store?',\n",
       " 'query': \"SELECT COUNT(*) FROM t_shirts WHERE brand = 'Adidas' AND stock_quantity > 0;\",\n",
       " 'result': '[(15,)]'}"
      ]
     },
     "execution_count": 44,
     "metadata": {},
     "output_type": "execute_result"
    }
   ],
   "execution_count": 44
  },
  {
   "metadata": {},
   "cell_type": "markdown",
   "source": "#### The Fourth Step",
   "id": "434c9d4c147e9868"
  },
  {
   "metadata": {
    "ExecuteTime": {
     "end_time": "2025-04-24T01:22:43.237700Z",
     "start_time": "2025-04-24T01:22:43.226866Z"
    }
   },
   "cell_type": "code",
   "source": [
    "def generate_answer(state: State):\n",
    "    if state[\"result\"] == '' :\n",
    "        return {\n",
    "        \"question\": state[\"question\"],\n",
    "        \"query\": state[\"query\"],\n",
    "        \"result\": state[\"result\"],\n",
    "        \"answer\": 'No result found!'\n",
    "    }\n",
    "    \"\"\"Answer question using retrieved information as context.\"\"\"\n",
    "    prompt = (\n",
    "        \"Given the following user question, corresponding SQL query, \"\n",
    "        \"and SQL result, answer the user question.\\n\\n\"\n",
    "        f'Question: {state[\"question\"]}\\n'\n",
    "        f'SQL Query: {state[\"query\"]}\\n'\n",
    "        f'SQL Result: {state[\"result\"]}'\n",
    "    )\n",
    "    response = llm.invoke(prompt)\n",
    "    return {\n",
    "        \"question\": state[\"question\"],\n",
    "        \"query\": state[\"query\"],\n",
    "        \"result\": state[\"result\"],\n",
    "        \"answer\": response.content\n",
    "    }"
   ],
   "id": "e4e75676dc661669",
   "outputs": [],
   "execution_count": 45
  },
  {
   "metadata": {},
   "cell_type": "markdown",
   "source": "test",
   "id": "1a6660439d4da68d"
  },
  {
   "metadata": {
    "ExecuteTime": {
     "end_time": "2025-04-24T01:22:46.745969Z",
     "start_time": "2025-04-24T01:22:46.740267Z"
    }
   },
   "cell_type": "code",
   "source": [
    "input_llm ={'question': 'How many Adidas T shirts I have left in my store?',\n",
    " 'query': \"SELECT COUNT(*) FROM t_shirts WHERE brand = 'Adidas' AND stock_quantity > 0;\",\n",
    " 'result': '[(15,)]'}"
   ],
   "id": "29590e749c1d428f",
   "outputs": [],
   "execution_count": 46
  },
  {
   "metadata": {
    "ExecuteTime": {
     "end_time": "2025-04-24T01:22:48.574703Z",
     "start_time": "2025-04-24T01:22:47.609336Z"
    }
   },
   "cell_type": "code",
   "source": "generate_answer(input_llm)",
   "id": "c6e6c14ee3c7c430",
   "outputs": [
    {
     "data": {
      "text/plain": [
       "{'question': 'How many Adidas T shirts I have left in my store?',\n",
       " 'query': \"SELECT COUNT(*) FROM t_shirts WHERE brand = 'Adidas' AND stock_quantity > 0;\",\n",
       " 'result': '[(15,)]',\n",
       " 'answer': 'Based on the SQL result, you have 15 Adidas T-shirts left in your store.'}"
      ]
     },
     "execution_count": 47,
     "metadata": {},
     "output_type": "execute_result"
    }
   ],
   "execution_count": 47
  },
  {
   "metadata": {},
   "cell_type": "markdown",
   "source": "###",
   "id": "26842756feb32c7f"
  },
  {
   "metadata": {},
   "cell_type": "markdown",
   "source": "### Orchestrating with LangGraph",
   "id": "a6d88c1af8b830b5"
  },
  {
   "metadata": {},
   "cell_type": "markdown",
   "source": [
    "Finally, we compile our application into a single graph object. In this case, we are just connecting the three steps into a single sequence.\n",
    "\n"
   ],
   "id": "907cf3b9282321b4"
  },
  {
   "metadata": {
    "ExecuteTime": {
     "end_time": "2025-04-24T01:22:55.573206Z",
     "start_time": "2025-04-24T01:22:55.250887Z"
    }
   },
   "cell_type": "code",
   "source": [
    "from langgraph.graph import START, StateGraph\n",
    "\n",
    "graph_builder = StateGraph(State).add_sequence(\n",
    "    [write_query, execute_query, generate_answer]\n",
    ")\n",
    "graph_builder.add_edge(START, \"write_query\")\n",
    "graph = graph_builder.compile()"
   ],
   "id": "df68093ee99d486d",
   "outputs": [],
   "execution_count": 48
  },
  {
   "metadata": {
    "ExecuteTime": {
     "end_time": "2025-04-24T01:22:56.900583Z",
     "start_time": "2025-04-24T01:22:56.399488Z"
    }
   },
   "cell_type": "code",
   "source": [
    "from IPython.display import Image, display\n",
    "\n",
    "display(Image(graph.get_graph().draw_mermaid_png()))"
   ],
   "id": "acf8d919e9926eca",
   "outputs": [
    {
     "data": {
      "image/png": "[encoded data removed]",
      "text/plain": [
       "<IPython.core.display.Image object>"
      ]
     },
     "metadata": {},
     "output_type": "display_data"
    }
   ],
   "execution_count": 49
  },
  {
   "metadata": {},
   "cell_type": "markdown",
   "source": "### Testing the application, with each step of the chain",
   "id": "97a9bf73bea3cc6a"
  },
  {
   "metadata": {
    "ExecuteTime": {
     "end_time": "2025-04-24T01:24:05.568072Z",
     "start_time": "2025-04-24T01:24:03.632144Z"
    }
   },
   "cell_type": "code",
   "source": [
    "for step in graph.stream(\n",
    "    {\"question\": \"How many T-shirts of size M do we have in stock?\"}, stream_mode=\"updates\"\n",
    "):\n",
    "    print(step)"
   ],
   "id": "be58b0c2ce651314",
   "outputs": [
    {
     "name": "stdout",
     "output_type": "stream",
     "text": [
      "{'write_query': {'question': 'How many T-shirts of size M do we have in stock?', 'query': \"SELECT SUM(stock_quantity) FROM t_shirts WHERE size = 'M';\"}}\n",
      "{'execute_query': {'question': 'How many T-shirts of size M do we have in stock?', 'query': \"SELECT SUM(stock_quantity) FROM t_shirts WHERE size = 'M';\", 'result': \"[(Decimal('898'),)]\"}}\n",
      "{'generate_answer': {'question': 'How many T-shirts of size M do we have in stock?', 'query': \"SELECT SUM(stock_quantity) FROM t_shirts WHERE size = 'M';\", 'result': \"[(Decimal('898'),)]\", 'answer': 'You have 898 T-shirts of size M in stock.'}}\n"
     ]
    }
   ],
   "execution_count": 51
  },
  {
   "metadata": {},
   "cell_type": "markdown",
   "source": "##### Final mini test",
   "id": "c024dc530db16881"
  },
  {
   "metadata": {
    "ExecuteTime": {
     "end_time": "2025-04-24T01:28:18.902893Z",
     "start_time": "2025-04-24T01:28:17.563075Z"
    }
   },
   "cell_type": "code",
   "source": "write_query({\"question\": \"What is the total price of Adidas t-shirts after applying discounts?\"})",
   "id": "6f08c0f3bac158c5",
   "outputs": [
    {
     "data": {
      "text/plain": [
       "{'question': 'What is the total price of Adidas t-shirts after applying discounts?',\n",
       " 'query': \"SELECT SUM(t.price * t.stock_quantity * (1 - d.pct_discount / 100)) AS total_discounted_price FROM t_shirts t JOIN discounts d ON t.t_shirt_id = d.t_shirt_id WHERE t.brand = 'Adidas';\"}"
      ]
     },
     "execution_count": 52,
     "metadata": {},
     "output_type": "execute_result"
    }
   ],
   "execution_count": 52
  }
 ],
 "metadata": {
  "kernelspec": {
   "display_name": "Python 3",
   "language": "python",
   "name": "python3"
  },
  "language_info": {
   "codemirror_mode": {
    "name": "ipython",
    "version": 2
   },
   "file_extension": ".py",
   "mimetype": "text/x-python",
   "name": "python",
   "nbconvert_exporter": "python",
   "pygments_lexer": "ipython2",
   "version": "2.7.6"
  }
 },
 "nbformat": 4,
 "nbformat_minor": 5
}
